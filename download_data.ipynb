{
 "cells": [
  {
   "cell_type": "code",
   "execution_count": 4,
   "id": "c344ffb3",
   "metadata": {},
   "outputs": [],
   "source": [
    "import os\n",
    "import zipfile\n",
    "from pathlib import Path\n",
    "import requests"
   ]
  },
  {
   "cell_type": "code",
   "execution_count": 5,
   "id": "b653f78e",
   "metadata": {},
   "outputs": [],
   "source": [
    "os.makedirs(\"datalake/raw/clima\", exist_ok=True)\n",
    "\n",
    "urls = {\n",
    "    \"2023\": \"https://portal.inmet.gov.br/uploads/dadoshistoricos/2023.zip\",\n",
    "    \"2024\": \"https://portal.inmet.gov.br/uploads/dadoshistoricos/2024.zip\",\n",
    "    \"2025\": \"https://portal.inmet.gov.br/uploads/dadoshistoricos/2025.zip\"\n",
    "}\n",
    "\n",
    "for ano, url in urls.items():\n",
    "    path = f\"datalake/raw/clima/{ano}.zip\"\n",
    "    with requests.get(url, stream=True) as r:\n",
    "        with open(path, 'wb') as f:\n",
    "            for chunk in r.iter_content(chunk_size=8192):\n",
    "                f.write(chunk)\n"
   ]
  },
  {
   "cell_type": "code",
   "execution_count": 7,
   "id": "58520313",
   "metadata": {},
   "outputs": [
    {
     "name": "stdout",
     "output_type": "stream",
     "text": [
      "Extraído: 2023.zip\n",
      "Extraído: 2024.zip\n",
      "Extraído: 2025.zip\n"
     ]
    }
   ],
   "source": [
    "output_dir = \"datalake/raw/clima\"\n",
    "for file_name in os.listdir(output_dir):\n",
    "    file_path = Path(output_dir) / file_name\n",
    "\n",
    "    if file_name.endswith(\".zip\"):\n",
    "        try:\n",
    "            with zipfile.ZipFile(file_path, 'r') as zip_ref:\n",
    "                zip_ref.extractall(output_dir)\n",
    "                print(f\"Extraído: {file_name}\")\n",
    "            file_path.unlink()\n",
    "        except zipfile.BadZipFile:\n",
    "            print(f\"Erro ao descompactar: {file_name}\")"
   ]
  },
  {
   "cell_type": "code",
   "execution_count": 9,
   "id": "24db5079",
   "metadata": {},
   "outputs": [],
   "source": [
    "folder = Path(\"datalake/raw/clima\")\n",
    "prefixo_manaus = \"INMET_N_AM_A101_MANAUS\"\n",
    "\n",
    "for file in folder.iterdir():\n",
    "    if file.is_file() and not file.name.startswith(prefixo_manaus):\n",
    "        file.unlink()"
   ]
  },
  {
   "cell_type": "code",
   "execution_count": 8,
   "id": "8ae2c4c2",
   "metadata": {},
   "outputs": [
    {
     "name": "stdout",
     "output_type": "stream",
     "text": [
      "Baixando: https://arquivosdadosabertos.saude.gov.br/ftp/SINAN/Dengue/csv/DENGBR23.csv.zip\n",
      "Baixando: https://arquivosdadosabertos.saude.gov.br/ftp/SINAN/Dengue/csv/DENGBR24.csv.zip\n",
      "Baixando: https://arquivosdadosabertos.saude.gov.br/ftp/SINAN/Dengue/csv/DENGBR25.csv.zip\n"
     ]
    }
   ],
   "source": [
    "base_path = 'datalake/raw/dengue'\n",
    "os.makedirs(base_path, exist_ok=True)\n",
    "\n",
    "anos = [2023, 2024, 2025]\n",
    "\n",
    "for ano in anos:\n",
    "    sufixo = str(ano)[-2:]\n",
    "    url = f'https://arquivosdadosabertos.saude.gov.br/ftp/SINAN/Dengue/csv/DENGBR{sufixo}.csv.zip'\n",
    "    zip_path = os.path.join(base_path, f'dengue_{ano}.zip')\n",
    "\n",
    "    print(f'Baixando: {url}')\n",
    "    response = requests.get(url)\n",
    "\n",
    "    if response.status_code == 200 and response.content[:2] == b'PK':\n",
    "        with open(zip_path, 'wb') as f:\n",
    "            f.write(response.content)\n",
    "        with zipfile.ZipFile(zip_path, 'r') as zip_ref:\n",
    "            zip_ref.extractall(base_path)\n",
    "        os.remove(zip_path)\n",
    "    else:\n",
    "        print(f'Erro ao baixar ou arquivo inválido para {ano}. Status: {response.status_code}\\n')"
   ]
  }
 ],
 "metadata": {
  "kernelspec": {
   "display_name": ".venv",
   "language": "python",
   "name": "python3"
  },
  "language_info": {
   "codemirror_mode": {
    "name": "ipython",
    "version": 3
   },
   "file_extension": ".py",
   "mimetype": "text/x-python",
   "name": "python",
   "nbconvert_exporter": "python",
   "pygments_lexer": "ipython3",
   "version": "3.12.1"
  }
 },
 "nbformat": 4,
 "nbformat_minor": 5
}
